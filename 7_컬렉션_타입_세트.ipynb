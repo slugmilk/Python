{
  "nbformat": 4,
  "nbformat_minor": 0,
  "metadata": {
    "colab": {
      "provenance": [],
      "authorship_tag": "ABX9TyPirBzQDLraPkZ8JOvQs7Xb",
      "include_colab_link": true
    },
    "kernelspec": {
      "name": "python3",
      "display_name": "Python 3"
    },
    "language_info": {
      "name": "python"
    }
  },
  "cells": [
    {
      "cell_type": "markdown",
      "metadata": {
        "id": "view-in-github",
        "colab_type": "text"
      },
      "source": [
        "<a href=\"https://colab.research.google.com/github/slugmilk/Python/blob/main/7_%EC%BB%AC%EB%A0%89%EC%85%98_%ED%83%80%EC%9E%85_%EC%84%B8%ED%8A%B8.ipynb\" target=\"_parent\"><img src=\"https://colab.research.google.com/assets/colab-badge.svg\" alt=\"Open In Colab\"/></a>"
      ]
    },
    {
      "cell_type": "markdown",
      "source": [
        "# **1. 세트**\n",
        "세트(set)는 중복되지 않은 항목들의 컬렉션입니다."
      ],
      "metadata": {
        "id": "BpPsocAmDv5B"
      }
    },
    {
      "cell_type": "code",
      "source": [
        "s1 = {1, 3, 5, 7}\n",
        "print(s1)\n",
        "print(type(s1))"
      ],
      "metadata": {
        "colab": {
          "base_uri": "https://localhost:8080/"
        },
        "id": "LyLdGBgeERrv",
        "outputId": "7fbefbe8-f749-4c62-c9f9-bff5308c353d"
      },
      "execution_count": null,
      "outputs": [
        {
          "output_type": "stream",
          "name": "stdout",
          "text": [
            "{1, 3, 5, 7}\n",
            "<class 'set'>\n"
          ]
        }
      ]
    },
    {
      "cell_type": "code",
      "source": [
        "s2 = {}\n",
        "print(s2)\n",
        "print(type(s2)) # 데이터가 없으면 딕셔너리로 인식"
      ],
      "metadata": {
        "colab": {
          "base_uri": "https://localhost:8080/"
        },
        "id": "tgRtmr5DEvKx",
        "outputId": "2fe60c95-d122-458d-9246-cd7ac951d64a"
      },
      "execution_count": null,
      "outputs": [
        {
          "output_type": "stream",
          "name": "stdout",
          "text": [
            "{}\n",
            "<class 'dict'>\n"
          ]
        }
      ]
    },
    {
      "cell_type": "code",
      "source": [
        "s3 = set([1, 3, 5, 7])\n",
        "print(s3)\n",
        "print(type(s3))"
      ],
      "metadata": {
        "colab": {
          "base_uri": "https://localhost:8080/"
        },
        "id": "xNTFJZrvEzjT",
        "outputId": "cbef9319-b8a6-4504-a807-d377e01a64cc"
      },
      "execution_count": null,
      "outputs": [
        {
          "output_type": "stream",
          "name": "stdout",
          "text": [
            "{1, 3, 5, 7}\n",
            "<class 'set'>\n"
          ]
        }
      ]
    },
    {
      "cell_type": "code",
      "source": [
        "li1 = [1, 2, 3, 4]\n",
        "print(type(li1))\n",
        "s4 = set(li1)\n",
        "print(type(s4))"
      ],
      "metadata": {
        "colab": {
          "base_uri": "https://localhost:8080/"
        },
        "id": "P3X8jar-E95M",
        "outputId": "8082d78a-ed22-4b9c-b8bb-c1fa0401cbeb"
      },
      "execution_count": null,
      "outputs": [
        {
          "output_type": "stream",
          "name": "stdout",
          "text": [
            "<class 'list'>\n",
            "<class 'set'>\n"
          ]
        }
      ]
    },
    {
      "cell_type": "code",
      "source": [
        "s5 = {1, 3, 5, 3, 7, 9, 1, 5, 10, 7}\n",
        "print(s5) # 중복 데이터 제거됨"
      ],
      "metadata": {
        "colab": {
          "base_uri": "https://localhost:8080/"
        },
        "id": "db0eY3EJFYSb",
        "outputId": "5820b435-ad23-40c1-a05a-360a5cb87fe4"
      },
      "execution_count": null,
      "outputs": [
        {
          "output_type": "stream",
          "name": "stdout",
          "text": [
            "{1, 3, 5, 7, 9, 10}\n"
          ]
        }
      ]
    },
    {
      "cell_type": "code",
      "source": [
        "li2 = [1, 3, 5, 3, 7, 9, 1, 5, 10, 7]\n",
        "s6 = set(li2)\n",
        "s6"
      ],
      "metadata": {
        "colab": {
          "base_uri": "https://localhost:8080/"
        },
        "id": "UAraL0X7FiSQ",
        "outputId": "f072fa7b-57c2-4530-ab85-e3e3e225ee4f"
      },
      "execution_count": null,
      "outputs": [
        {
          "output_type": "execute_result",
          "data": {
            "text/plain": [
              "{1, 3, 5, 7, 9, 10}"
            ]
          },
          "metadata": {},
          "execution_count": 6
        }
      ]
    },
    {
      "cell_type": "markdown",
      "source": [
        "# **2. 세트의 메서드**"
      ],
      "metadata": {
        "id": "hQvY3mM7Fw-Q"
      }
    },
    {
      "cell_type": "markdown",
      "source": [
        "### 2-1. add(): 세트의 요소를 추가"
      ],
      "metadata": {
        "id": "zayKn2jvSKRB"
      }
    },
    {
      "cell_type": "code",
      "source": [
        "s1 = {1, 3, 5, 7}\n",
        "s1.add(2)\n",
        "print(s1)\n",
        "s1.add(4)\n",
        "print(s1)\n",
        "s1.add(3)\n",
        "print(s1) # 운이 좋아 순서대로 들어간거지 인덱스가 없어 매번 이렇게 순서대로 들어가는 것은 아니다"
      ],
      "metadata": {
        "colab": {
          "base_uri": "https://localhost:8080/"
        },
        "id": "_y_nSHYcSBk4",
        "outputId": "5b905a52-3fc8-4053-fb99-e80929f118fb"
      },
      "execution_count": null,
      "outputs": [
        {
          "output_type": "stream",
          "name": "stdout",
          "text": [
            "{1, 2, 3, 5, 7}\n",
            "{1, 2, 3, 4, 5, 7}\n",
            "{1, 2, 3, 4, 5, 7}\n"
          ]
        }
      ]
    },
    {
      "cell_type": "markdown",
      "source": [
        "### 2-2. update(): 세트에 여러 개의 요소 추가"
      ],
      "metadata": {
        "id": "l_ywcBzrSUJ4"
      }
    },
    {
      "cell_type": "code",
      "source": [
        "s1 = {1, 3, 5, 7}\n",
        "s1.update([2, 4, 6, 8, 10]) # 리스트로 추가\n",
        "print(s1)"
      ],
      "metadata": {
        "colab": {
          "base_uri": "https://localhost:8080/"
        },
        "id": "YXeGWqnOS8N1",
        "outputId": "0d7c91e7-a556-470f-a9f1-c251f5204dee"
      },
      "execution_count": null,
      "outputs": [
        {
          "output_type": "stream",
          "name": "stdout",
          "text": [
            "{1, 2, 3, 4, 5, 6, 7, 8, 10}\n"
          ]
        }
      ]
    },
    {
      "cell_type": "markdown",
      "source": [
        "### 2-3. remove(): 세트의 요소를 제거. 단 요소가 없으면 에러가 발생"
      ],
      "metadata": {
        "id": "fr8XHOJQTBQQ"
      }
    },
    {
      "cell_type": "code",
      "source": [
        "s1 = {1, 3, 5, 7}\n",
        "s1.remove(3)\n",
        "print(s1)\n",
        "# s1.remove(4)\n",
        "# KeyError: 4"
      ],
      "metadata": {
        "colab": {
          "base_uri": "https://localhost:8080/"
        },
        "id": "q_2-EOX4TMn8",
        "outputId": "0d31bde1-962e-4406-ac8f-b6ff46241677"
      },
      "execution_count": null,
      "outputs": [
        {
          "output_type": "stream",
          "name": "stdout",
          "text": [
            "{1, 5, 7}\n"
          ]
        }
      ]
    },
    {
      "cell_type": "markdown",
      "source": [
        "### 2-4. discard(): 세트의 요소를 제거. 단 요소가 없어도 에러가 발새하지 않음"
      ],
      "metadata": {
        "id": "tXeEqvY1TRI_"
      }
    },
    {
      "cell_type": "code",
      "source": [
        "s1 = {1, 3, 5, 7}\n",
        "s1.discard(3)\n",
        "print(s1)\n",
        "s1.discard(4)\n",
        "print(s1)"
      ],
      "metadata": {
        "colab": {
          "base_uri": "https://localhost:8080/"
        },
        "id": "w3YcUOlLTgEg",
        "outputId": "82cd9571-4da4-429c-8a82-5aa6718c66af"
      },
      "execution_count": null,
      "outputs": [
        {
          "output_type": "stream",
          "name": "stdout",
          "text": [
            "{1, 5, 7}\n",
            "{1, 5, 7}\n"
          ]
        }
      ]
    },
    {
      "cell_type": "markdown",
      "source": [
        "remove와 discard 구분돼있는 이유? - 쓰임따라 다름\n",
        "있음 지우고 없음 말아라\n",
        "있어서 지운건지 없어서 못지운건지 확인\n",
        "remove()를 써도 에러 처리 구문을 통해 에러없이 사용할 수 있음"
      ],
      "metadata": {
        "id": "qiAdF9JgTndX"
      }
    },
    {
      "cell_type": "markdown",
      "source": [
        "### 2-5. copy(): 세트를 복사"
      ],
      "metadata": {
        "id": "A165IOrSUXaU"
      }
    },
    {
      "cell_type": "code",
      "source": [
        "s1 = {1, 3, 5, 7}\n",
        "# s2 = s1\n",
        "# 메모리 주소 같음\n",
        "s2 = s1.copy() # 메모리 주소 다름\n",
        "print(s1)\n",
        "print(s2)\n",
        "print(id(s1))\n",
        "print(id(s2))"
      ],
      "metadata": {
        "colab": {
          "base_uri": "https://localhost:8080/"
        },
        "id": "aD_AJgA4UaWo",
        "outputId": "b22d4f87-ab7c-4b5e-fb81-7fc46570be52"
      },
      "execution_count": null,
      "outputs": [
        {
          "output_type": "stream",
          "name": "stdout",
          "text": [
            "{1, 3, 5, 7}\n",
            "{1, 3, 5, 7}\n",
            "133746842319360\n",
            "133746842320032\n"
          ]
        }
      ]
    },
    {
      "cell_type": "markdown",
      "source": [
        "set -> 집합에서 유래 -> 집합 계산 O"
      ],
      "metadata": {
        "id": "Tc1gxaFlVe6G"
      }
    },
    {
      "cell_type": "markdown",
      "source": [
        "### 2-6. union(): 합집합 계산"
      ],
      "metadata": {
        "id": "gPuv16_wUkhD"
      }
    },
    {
      "cell_type": "code",
      "source": [
        "s1 = {10, 20, 30, 40, 50}\n",
        "s2 = {30, 40, 50, 60, 70}\n",
        "\n",
        "result1 = s1.union(s2)\n",
        "print(result1)"
      ],
      "metadata": {
        "colab": {
          "base_uri": "https://localhost:8080/"
        },
        "id": "TinxoJk3VVpb",
        "outputId": "227c16e4-4580-4db4-bd4f-a354e5590c46"
      },
      "execution_count": null,
      "outputs": [
        {
          "output_type": "stream",
          "name": "stdout",
          "text": [
            "{70, 40, 10, 50, 20, 60, 30}\n"
          ]
        }
      ]
    },
    {
      "cell_type": "code",
      "source": [
        "result2 = s1 | s2 # 연산자로도 합집합 계산 가능\n",
        "print(result2)"
      ],
      "metadata": {
        "colab": {
          "base_uri": "https://localhost:8080/"
        },
        "id": "czayK7ELVxS-",
        "outputId": "0482bd1f-48bd-4df5-b56b-2c1238eb6a07"
      },
      "execution_count": null,
      "outputs": [
        {
          "output_type": "stream",
          "name": "stdout",
          "text": [
            "{70, 40, 10, 50, 20, 60, 30}\n"
          ]
        }
      ]
    },
    {
      "cell_type": "markdown",
      "source": [
        "### 2-7. intersection(): 교집합 계산"
      ],
      "metadata": {
        "id": "3VsxUPrtV-wo"
      }
    },
    {
      "cell_type": "code",
      "source": [
        "s1 = {10, 20, 30, 40, 50}\n",
        "s2 = {30, 40, 50, 60, 70}\n",
        "\n",
        "result1 = s1.intersection(s2)\n",
        "print(result1)"
      ],
      "metadata": {
        "colab": {
          "base_uri": "https://localhost:8080/"
        },
        "id": "DD87uxqiWHWU",
        "outputId": "0bb1f51f-863f-4c97-b524-908a81dd61ea"
      },
      "execution_count": null,
      "outputs": [
        {
          "output_type": "stream",
          "name": "stdout",
          "text": [
            "{40, 50, 30}\n"
          ]
        }
      ]
    },
    {
      "cell_type": "code",
      "source": [
        "result2 = s1 & s2\n",
        "print(result2)"
      ],
      "metadata": {
        "colab": {
          "base_uri": "https://localhost:8080/"
        },
        "id": "w5pFBhGQWO1H",
        "outputId": "f6fdae0a-3203-4f8e-eb1d-7234a79d88a5"
      },
      "execution_count": null,
      "outputs": [
        {
          "output_type": "stream",
          "name": "stdout",
          "text": [
            "{40, 50, 30}\n"
          ]
        }
      ]
    },
    {
      "cell_type": "markdown",
      "source": [
        "### 2-8. difference(): 차집합 계산"
      ],
      "metadata": {
        "id": "n2XgJ_IFWd43"
      }
    },
    {
      "cell_type": "code",
      "source": [
        "s1 = {10, 20, 30, 40, 50}\n",
        "s2 = {30, 40, 50, 60, 70}\n",
        "\n",
        "result1 = s1.difference(s2)\n",
        "print(result1)"
      ],
      "metadata": {
        "colab": {
          "base_uri": "https://localhost:8080/"
        },
        "id": "HPA9w0iVWkcj",
        "outputId": "62b50b14-ce83-4dd5-f2e7-aaa73eb7b640"
      },
      "execution_count": null,
      "outputs": [
        {
          "output_type": "stream",
          "name": "stdout",
          "text": [
            "{10, 20}\n"
          ]
        }
      ]
    },
    {
      "cell_type": "code",
      "source": [
        "result2 = s1 - s2\n",
        "print(result2)"
      ],
      "metadata": {
        "colab": {
          "base_uri": "https://localhost:8080/"
        },
        "id": "B6_enqNrWt7J",
        "outputId": "98e8557d-a859-4995-f457-a4d3aca3ecea"
      },
      "execution_count": null,
      "outputs": [
        {
          "output_type": "stream",
          "name": "stdout",
          "text": [
            "{10, 20}\n"
          ]
        }
      ]
    },
    {
      "cell_type": "markdown",
      "source": [
        "### 2-9. symmetric_difference: 대칭 차집합 계산"
      ],
      "metadata": {
        "id": "oMdxtlIVW0zF"
      }
    },
    {
      "cell_type": "code",
      "source": [
        "s1 = {10, 20, 30, 40, 50}\n",
        "s2 = {30, 40, 50, 60, 70}\n",
        "\n",
        "result1 = s1.symmetric_difference(s2)\n",
        "print(result1)"
      ],
      "metadata": {
        "colab": {
          "base_uri": "https://localhost:8080/"
        },
        "id": "SebWmNSWXBh5",
        "outputId": "d14a1077-1660-4a2b-eaf7-0be92bc2ad6d"
      },
      "execution_count": null,
      "outputs": [
        {
          "output_type": "stream",
          "name": "stdout",
          "text": [
            "{20, 70, 10, 60}\n"
          ]
        }
      ]
    },
    {
      "cell_type": "code",
      "source": [
        "result2 = s1 ^ s2\n",
        "print(result2)"
      ],
      "metadata": {
        "colab": {
          "base_uri": "https://localhost:8080/"
        },
        "id": "BKX9wpOEXGc6",
        "outputId": "f91c64dd-2e5b-42df-b073-ef64c3963021"
      },
      "execution_count": null,
      "outputs": [
        {
          "output_type": "stream",
          "name": "stdout",
          "text": [
            "{20, 70, 10, 60}\n"
          ]
        }
      ]
    },
    {
      "cell_type": "markdown",
      "source": [
        "set은 순서가 없는 자료형이기 때문에 데이터를 순서대로 정렬하고 싶으면 리스트로 변환 후 sort, sorted를 사용"
      ],
      "metadata": {
        "id": "3fd5miC3XTLI"
      }
    },
    {
      "cell_type": "code",
      "source": [
        "result = list(result2)\n",
        "result.sort()\n",
        "result"
      ],
      "metadata": {
        "colab": {
          "base_uri": "https://localhost:8080/"
        },
        "id": "Gibs09oCX7yN",
        "outputId": "e958ac60-83d6-40fe-9a1d-a2409090b7f9"
      },
      "execution_count": null,
      "outputs": [
        {
          "output_type": "execute_result",
          "data": {
            "text/plain": [
              "[10, 20, 60, 70]"
            ]
          },
          "metadata": {},
          "execution_count": 32
        }
      ]
    },
    {
      "cell_type": "code",
      "source": [],
      "metadata": {
        "id": "OTl_xWUbYJ03"
      },
      "execution_count": null,
      "outputs": []
    }
  ]
}